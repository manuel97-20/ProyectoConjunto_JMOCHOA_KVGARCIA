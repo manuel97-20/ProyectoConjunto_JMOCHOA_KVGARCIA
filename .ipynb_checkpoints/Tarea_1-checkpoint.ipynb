{
 "cells": [
  {
   "cell_type": "markdown",
   "metadata": {},
   "source": [
    "## Aquí ponemos el resumen y los ejercicios que nos pide el "
   ]
  },
  {
   "cell_type": "markdown",
   "metadata": {},
   "source": [
    "Principios de este nuevo lenguaje:\n",
    "1. Facil de leer\n",
    "2. Permitir a los usuarios la creacion de sus propias librerias\n",
    "3. Nombre corto, unico y un poco misteriosos\n",
    "\n",
    "El creador realmente no se imagino que \"python\" como lenguaje de programacion seria tan consumido mundialmente\n",
    "No solo ha crecido su popularidad entre desarroladores profesionales\n",
    "Aficionados han ayudado añadiendo mas de 145,000 librerias las cuales cubren desde astronomia a desarrollo de videojuegos\n",
    "\n",
    "Sin embargo otros lenguajes son mas eficientes en cuanto al control que se puede tener de lo que sucede con el procesador del computador\n",
    "\n",
    "Java es popular para contruir grandes y complejas aplicaciones\n",
    "JavaScript se utiliza para aplicaciones accesibles a traves de algun web browser\n",
    "Y asi, muchs otros se prefieren para usos determinados\n",
    "\n",
    "Pero Python por sus virtudes (una sintaxis simple, etc) lo convierte en un buen lenguaje en terminos generales\n",
    "CIA lo ha empleado para \"Hackear\", Piuxar para producir films, Spotify con un algoritmo de recomendaciones\n",
    "\n",
    "Algunas librerias que pueden llamar la tencion son aquelas enfocadas a Inteligencia Artificial, con las cuales los usuarios pueden crear redes neuronales\n",
    "\n",
    "Otros usos son, por ejemplo, medir la \"efectividad\" de campañas, a traves de modelos estadisticos\n",
    "para mineria de datos.\n",
    "\n",
    "Uno de los confictos que puede haber, es el hecho que es posible utilizar modelos de AI sin saber que es lo que hay debajo\n",
    "\n",
    "Se debe plantear la idea de enseñar el lenguaje desde pequeños, en primaria o secundaria\n",
    "\n",
    "Para concluir, podemos decir que ningun lenguaje tendra un proposito \"general\" realmente, las especializacion permanece muy vigente\n",
    "Mr Van Rossum (el creador de pyton) definitivamente creo algo memorable y con usos que todavia hay por descubrir.\n"
   ]
  },
  {
   "cell_type": "code",
   "execution_count": null,
   "metadata": {},
   "outputs": [],
   "source": []
  }
 ],
 "metadata": {
  "kernelspec": {
   "display_name": "Python 3",
   "language": "python",
   "name": "python3"
  },
  "language_info": {
   "codemirror_mode": {
    "name": "ipython",
    "version": 3
   },
   "file_extension": ".py",
   "mimetype": "text/x-python",
   "name": "python",
   "nbconvert_exporter": "python",
   "pygments_lexer": "ipython3",
   "version": "3.7.3"
  }
 },
 "nbformat": 4,
 "nbformat_minor": 2
}
